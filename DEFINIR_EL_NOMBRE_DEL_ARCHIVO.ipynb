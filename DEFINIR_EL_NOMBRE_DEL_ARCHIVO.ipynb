{
  "nbformat": 4,
  "nbformat_minor": 0,
  "metadata": {
    "colab": {
      "provenance": []
    },
    "kernelspec": {
      "name": "python3",
      "display_name": "Python 3"
    },
    "language_info": {
      "name": "python"
    }
  },
  "cells": [
    {
      "cell_type": "markdown",
      "source": [
        "a.Extraer la información del archivo"
      ],
      "metadata": {
        "id": "x_KTxbT1pJKm"
      }
    },
    {
      "cell_type": "code",
      "execution_count": null,
      "metadata": {
        "id": "0_sEqS6YpDtS"
      },
      "outputs": [],
      "source": [
        "import pandas as pd\n",
        "# se carga desde git porque cada vez que se  reinicia la sesion se  elimina el documento\n",
        "\n",
        "#country_vaccinations = pd.read_csv(\"/content/country_vaccinations.csv\") \n",
        "url = 'https://raw.githubusercontent.com/utn-frocha/datos/main/country_vaccinations.csv'\n",
        "country_vaccinations = pd.read_csv(url, index_col=0)\n",
        "\n",
        "print(country_vaccinations.head(2))"
      ]
    },
    {
      "cell_type": "markdown",
      "source": [
        "b. Mostrar la estructura y tipos de datos de cada columna para identificar qué operaciones puedes realizar con cada una de ellas, asegurandote que las columnas con fechas sean del tipo datetime64\n"
      ],
      "metadata": {
        "id": "0YlSj72QpSps"
      }
    },
    {
      "cell_type": "code",
      "source": [
        "country_vaccinations=pd.DataFrame(country_vaccinations)\n",
        "country_vaccinations.describe()\n",
        "print(country_vaccinations.dtypes)\n",
        "print(f'\\n Conversiones  del cambio fecha \\n')\n",
        "country_vaccinations['date'] = country_vaccinations['date'].astype('datetime64')\n",
        "\n",
        "#country_vaccinations['total_vaccinations'] = pd.to_numeric(country_vaccinations['total_vaccinations'])\n",
        "\n",
        "country_vaccinations.dtypes"
      ],
      "metadata": {
        "colab": {
          "base_uri": "https://localhost:8080/"
        },
        "id": "8vbgS-11pp0p",
        "outputId": "891c52af-6bf9-44cb-bc44-b98cbec29c0a"
      },
      "execution_count": 2,
      "outputs": [
        {
          "output_type": "stream",
          "name": "stdout",
          "text": [
            "iso_code                                object\n",
            "date                                    object\n",
            "total_vaccinations                     float64\n",
            "people_vaccinated                      float64\n",
            "people_fully_vaccinated                float64\n",
            "daily_vaccinations_raw                 float64\n",
            "daily_vaccinations                     float64\n",
            "total_vaccinations_per_hundred         float64\n",
            "people_vaccinated_per_hundred          float64\n",
            "people_fully_vaccinated_per_hundred    float64\n",
            "daily_vaccinations_per_million         float64\n",
            "vaccines                                object\n",
            "source_name                             object\n",
            "source_website                          object\n",
            "dtype: object\n",
            "\n",
            " Conversiones  del cambio fecha \n",
            "\n"
          ]
        },
        {
          "output_type": "execute_result",
          "data": {
            "text/plain": [
              "iso_code                                       object\n",
              "date                                   datetime64[ns]\n",
              "total_vaccinations                            float64\n",
              "people_vaccinated                             float64\n",
              "people_fully_vaccinated                       float64\n",
              "daily_vaccinations_raw                        float64\n",
              "daily_vaccinations                            float64\n",
              "total_vaccinations_per_hundred                float64\n",
              "people_vaccinated_per_hundred                 float64\n",
              "people_fully_vaccinated_per_hundred           float64\n",
              "daily_vaccinations_per_million                float64\n",
              "vaccines                                       object\n",
              "source_name                                    object\n",
              "source_website                                 object\n",
              "dtype: object"
            ]
          },
          "metadata": {},
          "execution_count": 2
        }
      ]
    },
    {
      "cell_type": "markdown",
      "source": [
        "c. Determinar la cantidad de vacunas aplicadas de cada compañía (en base a como lo reporta cada país en la columna vaccines)"
      ],
      "metadata": {
        "id": "aSqKA-TIpraq"
      }
    },
    {
      "cell_type": "code",
      "source": [
        "#para vacunas aplicadas asumo que son las personas  vacunadas y entiendo que lo que quiere es  que agrupe por el vaccines  en ese caso la respuesta  seria la  siguiente\n",
        "country_vaccinations['people_vaccinated'] = country_vaccinations['people_vaccinated'].fillna(0).astype(int)\n",
        "argupacion=country_vaccinations.groupby(['vaccines']) [['people_vaccinated']].sum()\n",
        "print(argupacion)"
      ],
      "metadata": {
        "colab": {
          "base_uri": "https://localhost:8080/"
        },
        "id": "Do0nYyuDp0Wt",
        "outputId": "1c202559-2474-4804-b320-4d83122ddf1c"
      },
      "execution_count": 4,
      "outputs": [
        {
          "output_type": "stream",
          "name": "stdout",
          "text": [
            "                                                    people_vaccinated\n",
            "vaccines                                                             \n",
            "Abdala, Johnson&Johnson, Oxford/AstraZeneca, Pf...          107910574\n",
            "Abdala, Moderna, Oxford/AstraZeneca, Pfizer/Bio...         8973631303\n",
            "Abdala, Sinopharm/Beijing, Sinovac, Soberana02,...          252080543\n",
            "Abdala, Soberana Plus, Soberana02                          2261240331\n",
            "COVIran Barekat, Covaxin, FAKHRAVAC, Oxford/Ast...         5224706726\n",
            "...                                                               ...\n",
            "Pfizer/BioNTech, Sinovac, Turkovac                        16076281743\n",
            "Pfizer/BioNTech, Sputnik V                                    1008094\n",
            "QazVac, Sinopharm/Beijing, Sputnik V                       2100178063\n",
            "Sinopharm/Beijing                                            18518345\n",
            "Sinopharm/Beijing, Sputnik V                                349334531\n",
            "\n",
            "[84 rows x 1 columns]\n"
          ]
        }
      ]
    },
    {
      "cell_type": "markdown",
      "source": [
        "d. Obtener la cantidad de vacunas aplicadas en todo el mundo"
      ],
      "metadata": {
        "id": "6RrtJZvBp1n-"
      }
    },
    {
      "cell_type": "code",
      "source": [
        "vacunas_totales= round(country_vaccinations['total_vaccinations'].sum())\n",
        "print(f'La cantidad de vacunas  aplicadas es de { vacunas_totales}')"
      ],
      "metadata": {
        "id": "uja67nRzquxJ",
        "colab": {
          "base_uri": "https://localhost:8080/"
        },
        "outputId": "030bc7ef-5995-4a87-e15f-e4a7846451fd"
      },
      "execution_count": 5,
      "outputs": [
        {
          "output_type": "stream",
          "name": "stdout",
          "text": [
            "La cantidad de vacunas  aplicadas es de 2002854013761\n"
          ]
        }
      ]
    },
    {
      "cell_type": "markdown",
      "source": [
        "e. Calcular el promedio de vacunas aplicadas por país"
      ],
      "metadata": {
        "id": "moAVaX6bp7Ao"
      }
    },
    {
      "cell_type": "code",
      "source": [
        "country_vaccinations['people_vaccinated'] = country_vaccinations['people_vaccinated'].fillna(0).astype(int)\n",
        "vacunas_x_pais=round( country_vaccinations.groupby(['country']) [['people_vaccinated']].mean())\n",
        "print(vacunas_x_pais)"
      ],
      "metadata": {
        "id": "gZIA_Jr3qAL-",
        "colab": {
          "base_uri": "https://localhost:8080/"
        },
        "outputId": "44330629-0960-4173-ce39-0a2ace8b609c"
      },
      "execution_count": 6,
      "outputs": [
        {
          "output_type": "stream",
          "name": "stdout",
          "text": [
            "                   people_vaccinated\n",
            "country                             \n",
            "Afghanistan                 249267.0\n",
            "Albania                     341657.0\n",
            "Algeria                     335853.0\n",
            "Andorra                       3040.0\n",
            "Angola                      640737.0\n",
            "...                              ...\n",
            "Wales                      2001209.0\n",
            "Wallis and Futuna              517.0\n",
            "Yemen                        27409.0\n",
            "Zambia                       88446.0\n",
            "Zimbabwe                   2257323.0\n",
            "\n",
            "[223 rows x 1 columns]\n"
          ]
        }
      ]
    },
    {
      "cell_type": "markdown",
      "source": [
        "f. Determinar la cantidad de vacunas aplicadas el día 29/01/21 en todo el mundo"
      ],
      "metadata": {
        "id": "LvYSf0-XqAm2"
      }
    },
    {
      "cell_type": "code",
      "source": [
        "filtrado_fecha = country_vaccinations.loc[(country_vaccinations['date'] == '2021-01-29')]\n",
        "vacunas_x_fecha= round(filtrado_fecha['total_vaccinations'].sum())\n",
        "print(f'La cantidad de vacunas  aplicadas el 29-01-2021 es de { vacunas_x_fecha}')\n"
      ],
      "metadata": {
        "colab": {
          "base_uri": "https://localhost:8080/"
        },
        "id": "3WlySUWvrbxn",
        "outputId": "90706cb3-bb3f-4701-c900-9f4bce47d4f8"
      },
      "execution_count": 7,
      "outputs": [
        {
          "output_type": "stream",
          "name": "stdout",
          "text": [
            "La cantidad de vacunas  aplicadas el 29-01-2021 es de 82952931\n"
          ]
        }
      ]
    },
    {
      "cell_type": "markdown",
      "source": [
        "g. Crear un dataframe nuevo denoninado conDiferencias que contenga los datos originales y una columna derivada (diferencias) con las diferencias de aplicación entre las columnas daily_vaccionations y daily_vaccionations_raw"
      ],
      "metadata": {
        "id": "EEa8NcMtqDqF"
      }
    },
    {
      "cell_type": "code",
      "source": [
        "conDiferencias=country_vaccinations\n",
        "conDiferencias['daily_vaccinations_raw'] = conDiferencias['daily_vaccinations_raw'].fillna(0).astype(int)\n",
        "conDiferencias['daily_vaccinations'] = conDiferencias['daily_vaccinations'].fillna(0).astype(int)\n",
        "conDiferencias['diferencias'] = conDiferencias['daily_vaccinations']-conDiferencias['daily_vaccinations_raw']\n",
        "conDiferencias\n",
        "display(conDiferencias)\n",
        "conDiferencias['diferencias'] "
      ],
      "metadata": {
        "id": "CYm9c0fSqxhx"
      },
      "execution_count": null,
      "outputs": []
    },
    {
      "cell_type": "markdown",
      "source": [
        "h. Obtener el período de tiempo entre el registro con fecha más reciente y el registro con fecha más antigua"
      ],
      "metadata": {
        "id": "oXLgMLymqKTe"
      }
    },
    {
      "cell_type": "code",
      "source": [
        "import numpy as np\n",
        "\n",
        "dataset = pd.DataFrame(country_vaccinations, columns=['date']) \n",
        "elementos = (dataset.agg(primera=('date', np.min), ultima=('date', np.max)) ).T\n",
        "elementos['periodo_dias']=(elementos['ultima']-elementos['primera']).dt.days\n",
        "elementos['periodo_meses']=round(((elementos['ultima']-elementos['primera'])/np.timedelta64(1, 'M')),2)\n",
        "\n",
        "display (elementos)\n"
      ],
      "metadata": {
        "id": "muobtw9JqPbd",
        "colab": {
          "base_uri": "https://localhost:8080/",
          "height": 81
        },
        "outputId": "59887658-26c9-4625-d813-63890b38c26f"
      },
      "execution_count": 15,
      "outputs": [
        {
          "output_type": "display_data",
          "data": {
            "text/plain": [
              "        primera     ultima  periodo_dias  periodo_meses\n",
              "date 2020-02-12 2022-12-03          1025          33.68"
            ],
            "text/html": [
              "\n",
              "  <div id=\"df-26188e79-f3a8-4b7e-9082-57ee86c149a9\">\n",
              "    <div class=\"colab-df-container\">\n",
              "      <div>\n",
              "<style scoped>\n",
              "    .dataframe tbody tr th:only-of-type {\n",
              "        vertical-align: middle;\n",
              "    }\n",
              "\n",
              "    .dataframe tbody tr th {\n",
              "        vertical-align: top;\n",
              "    }\n",
              "\n",
              "    .dataframe thead th {\n",
              "        text-align: right;\n",
              "    }\n",
              "</style>\n",
              "<table border=\"1\" class=\"dataframe\">\n",
              "  <thead>\n",
              "    <tr style=\"text-align: right;\">\n",
              "      <th></th>\n",
              "      <th>primera</th>\n",
              "      <th>ultima</th>\n",
              "      <th>periodo_dias</th>\n",
              "      <th>periodo_meses</th>\n",
              "    </tr>\n",
              "  </thead>\n",
              "  <tbody>\n",
              "    <tr>\n",
              "      <th>date</th>\n",
              "      <td>2020-02-12</td>\n",
              "      <td>2022-12-03</td>\n",
              "      <td>1025</td>\n",
              "      <td>33.68</td>\n",
              "    </tr>\n",
              "  </tbody>\n",
              "</table>\n",
              "</div>\n",
              "      <button class=\"colab-df-convert\" onclick=\"convertToInteractive('df-26188e79-f3a8-4b7e-9082-57ee86c149a9')\"\n",
              "              title=\"Convert this dataframe to an interactive table.\"\n",
              "              style=\"display:none;\">\n",
              "        \n",
              "  <svg xmlns=\"http://www.w3.org/2000/svg\" height=\"24px\"viewBox=\"0 0 24 24\"\n",
              "       width=\"24px\">\n",
              "    <path d=\"M0 0h24v24H0V0z\" fill=\"none\"/>\n",
              "    <path d=\"M18.56 5.44l.94 2.06.94-2.06 2.06-.94-2.06-.94-.94-2.06-.94 2.06-2.06.94zm-11 1L8.5 8.5l.94-2.06 2.06-.94-2.06-.94L8.5 2.5l-.94 2.06-2.06.94zm10 10l.94 2.06.94-2.06 2.06-.94-2.06-.94-.94-2.06-.94 2.06-2.06.94z\"/><path d=\"M17.41 7.96l-1.37-1.37c-.4-.4-.92-.59-1.43-.59-.52 0-1.04.2-1.43.59L10.3 9.45l-7.72 7.72c-.78.78-.78 2.05 0 2.83L4 21.41c.39.39.9.59 1.41.59.51 0 1.02-.2 1.41-.59l7.78-7.78 2.81-2.81c.8-.78.8-2.07 0-2.86zM5.41 20L4 18.59l7.72-7.72 1.47 1.35L5.41 20z\"/>\n",
              "  </svg>\n",
              "      </button>\n",
              "      \n",
              "  <style>\n",
              "    .colab-df-container {\n",
              "      display:flex;\n",
              "      flex-wrap:wrap;\n",
              "      gap: 12px;\n",
              "    }\n",
              "\n",
              "    .colab-df-convert {\n",
              "      background-color: #E8F0FE;\n",
              "      border: none;\n",
              "      border-radius: 50%;\n",
              "      cursor: pointer;\n",
              "      display: none;\n",
              "      fill: #1967D2;\n",
              "      height: 32px;\n",
              "      padding: 0 0 0 0;\n",
              "      width: 32px;\n",
              "    }\n",
              "\n",
              "    .colab-df-convert:hover {\n",
              "      background-color: #E2EBFA;\n",
              "      box-shadow: 0px 1px 2px rgba(60, 64, 67, 0.3), 0px 1px 3px 1px rgba(60, 64, 67, 0.15);\n",
              "      fill: #174EA6;\n",
              "    }\n",
              "\n",
              "    [theme=dark] .colab-df-convert {\n",
              "      background-color: #3B4455;\n",
              "      fill: #D2E3FC;\n",
              "    }\n",
              "\n",
              "    [theme=dark] .colab-df-convert:hover {\n",
              "      background-color: #434B5C;\n",
              "      box-shadow: 0px 1px 3px 1px rgba(0, 0, 0, 0.15);\n",
              "      filter: drop-shadow(0px 1px 2px rgba(0, 0, 0, 0.3));\n",
              "      fill: #FFFFFF;\n",
              "    }\n",
              "  </style>\n",
              "\n",
              "      <script>\n",
              "        const buttonEl =\n",
              "          document.querySelector('#df-26188e79-f3a8-4b7e-9082-57ee86c149a9 button.colab-df-convert');\n",
              "        buttonEl.style.display =\n",
              "          google.colab.kernel.accessAllowed ? 'block' : 'none';\n",
              "\n",
              "        async function convertToInteractive(key) {\n",
              "          const element = document.querySelector('#df-26188e79-f3a8-4b7e-9082-57ee86c149a9');\n",
              "          const dataTable =\n",
              "            await google.colab.kernel.invokeFunction('convertToInteractive',\n",
              "                                                     [key], {});\n",
              "          if (!dataTable) return;\n",
              "\n",
              "          const docLinkHtml = 'Like what you see? Visit the ' +\n",
              "            '<a target=\"_blank\" href=https://colab.research.google.com/notebooks/data_table.ipynb>data table notebook</a>'\n",
              "            + ' to learn more about interactive tables.';\n",
              "          element.innerHTML = '';\n",
              "          dataTable['output_type'] = 'display_data';\n",
              "          await google.colab.output.renderOutput(dataTable, element);\n",
              "          const docLink = document.createElement('div');\n",
              "          docLink.innerHTML = docLinkHtml;\n",
              "          element.appendChild(docLink);\n",
              "        }\n",
              "      </script>\n",
              "    </div>\n",
              "  </div>\n",
              "  "
            ]
          },
          "metadata": {}
        }
      ]
    },
    {
      "cell_type": "markdown",
      "source": [
        "i. Crear un dataframe nuevo denominado conCantidad que contenga los datos originales y una columna derivada (canVac) con la cantidad de vacunas utilizadas cada día (usar la columna vaccines y separar por el carácter / )"
      ],
      "metadata": {
        "id": "4jvoPv1HqP00"
      }
    },
    {
      "cell_type": "code",
      "source": [
        "# No entiendo que es lo que prentende el enunciando, el juego de dato no esta para generar la informacion como lo  quiere\n",
        "datos=country_vaccinations\n",
        "datos[['Oxford', 'Pfizer', 'Sinopharm','Beijing','Otro']] = datos['vaccines'].str.split('/', expand=True)\n",
        "# ahi esta ya sepadado en columnas vaccines pero no se que quieren hacer con ella  ahora  que esta en  columnas????\n",
        "\n",
        "#con la columna derivada  no se que es lo que quiere que sume  ???\n",
        "#datos['canVac']=??\n",
        "display(datos.head(3))\n",
        "\n",
        "datos['daily_vaccinations'] = datos['daily_vaccinations'].fillna(0).astype(int)\n",
        "\n",
        "# ya esta agrupado por  fecha \n",
        "conCantidad=datos.groupby(['date']) [['daily_vaccinations']].sum()\n",
        "display(conCantidad.head(5))\n",
        "\n"
      ],
      "metadata": {
        "id": "WvuAkmRjqVP8",
        "colab": {
          "base_uri": "https://localhost:8080/",
          "height": 563
        },
        "outputId": "3fb74bb7-027b-4095-bfb6-b6098611868d"
      },
      "execution_count": 10,
      "outputs": [
        {
          "output_type": "display_data",
          "data": {
            "text/plain": [
              "            iso_code       date  total_vaccinations  people_vaccinated  \\\n",
              "country                                                                  \n",
              "Afghanistan      AFG 2021-02-22                 0.0                  0   \n",
              "Afghanistan      AFG 2021-02-23                 NaN                  0   \n",
              "Afghanistan      AFG 2021-02-24                 NaN                  0   \n",
              "\n",
              "             people_fully_vaccinated  daily_vaccinations_raw  \\\n",
              "country                                                        \n",
              "Afghanistan                      NaN                       0   \n",
              "Afghanistan                      NaN                       0   \n",
              "Afghanistan                      NaN                       0   \n",
              "\n",
              "             daily_vaccinations  total_vaccinations_per_hundred  \\\n",
              "country                                                           \n",
              "Afghanistan                   0                             0.0   \n",
              "Afghanistan                1367                             NaN   \n",
              "Afghanistan                1367                             NaN   \n",
              "\n",
              "             people_vaccinated_per_hundred  \\\n",
              "country                                      \n",
              "Afghanistan                            0.0   \n",
              "Afghanistan                            NaN   \n",
              "Afghanistan                            NaN   \n",
              "\n",
              "             people_fully_vaccinated_per_hundred  \\\n",
              "country                                            \n",
              "Afghanistan                                  NaN   \n",
              "Afghanistan                                  NaN   \n",
              "Afghanistan                                  NaN   \n",
              "\n",
              "             daily_vaccinations_per_million  \\\n",
              "country                                       \n",
              "Afghanistan                             NaN   \n",
              "Afghanistan                            34.0   \n",
              "Afghanistan                            34.0   \n",
              "\n",
              "                                                      vaccines  \\\n",
              "country                                                          \n",
              "Afghanistan  Johnson&Johnson, Oxford/AstraZeneca, Pfizer/Bi...   \n",
              "Afghanistan  Johnson&Johnson, Oxford/AstraZeneca, Pfizer/Bi...   \n",
              "Afghanistan  Johnson&Johnson, Oxford/AstraZeneca, Pfizer/Bi...   \n",
              "\n",
              "                           source_name            source_website  diferencias  \\\n",
              "country                                                                         \n",
              "Afghanistan  World Health Organization  https://covid19.who.int/            0   \n",
              "Afghanistan  World Health Organization  https://covid19.who.int/         1367   \n",
              "Afghanistan  World Health Organization  https://covid19.who.int/         1367   \n",
              "\n",
              "                              Oxford               Pfizer  \\\n",
              "country                                                     \n",
              "Afghanistan  Johnson&Johnson, Oxford  AstraZeneca, Pfizer   \n",
              "Afghanistan  Johnson&Johnson, Oxford  AstraZeneca, Pfizer   \n",
              "Afghanistan  Johnson&Johnson, Oxford  AstraZeneca, Pfizer   \n",
              "\n",
              "                       Sinopharm  Beijing  Otro  \n",
              "country                                          \n",
              "Afghanistan  BioNTech, Sinopharm  Beijing  None  \n",
              "Afghanistan  BioNTech, Sinopharm  Beijing  None  \n",
              "Afghanistan  BioNTech, Sinopharm  Beijing  None  "
            ],
            "text/html": [
              "\n",
              "  <div id=\"df-29112d2f-d3d2-4782-bfa0-ac3c2e9b2136\">\n",
              "    <div class=\"colab-df-container\">\n",
              "      <div>\n",
              "<style scoped>\n",
              "    .dataframe tbody tr th:only-of-type {\n",
              "        vertical-align: middle;\n",
              "    }\n",
              "\n",
              "    .dataframe tbody tr th {\n",
              "        vertical-align: top;\n",
              "    }\n",
              "\n",
              "    .dataframe thead th {\n",
              "        text-align: right;\n",
              "    }\n",
              "</style>\n",
              "<table border=\"1\" class=\"dataframe\">\n",
              "  <thead>\n",
              "    <tr style=\"text-align: right;\">\n",
              "      <th></th>\n",
              "      <th>iso_code</th>\n",
              "      <th>date</th>\n",
              "      <th>total_vaccinations</th>\n",
              "      <th>people_vaccinated</th>\n",
              "      <th>people_fully_vaccinated</th>\n",
              "      <th>daily_vaccinations_raw</th>\n",
              "      <th>daily_vaccinations</th>\n",
              "      <th>total_vaccinations_per_hundred</th>\n",
              "      <th>people_vaccinated_per_hundred</th>\n",
              "      <th>people_fully_vaccinated_per_hundred</th>\n",
              "      <th>daily_vaccinations_per_million</th>\n",
              "      <th>vaccines</th>\n",
              "      <th>source_name</th>\n",
              "      <th>source_website</th>\n",
              "      <th>diferencias</th>\n",
              "      <th>Oxford</th>\n",
              "      <th>Pfizer</th>\n",
              "      <th>Sinopharm</th>\n",
              "      <th>Beijing</th>\n",
              "      <th>Otro</th>\n",
              "    </tr>\n",
              "    <tr>\n",
              "      <th>country</th>\n",
              "      <th></th>\n",
              "      <th></th>\n",
              "      <th></th>\n",
              "      <th></th>\n",
              "      <th></th>\n",
              "      <th></th>\n",
              "      <th></th>\n",
              "      <th></th>\n",
              "      <th></th>\n",
              "      <th></th>\n",
              "      <th></th>\n",
              "      <th></th>\n",
              "      <th></th>\n",
              "      <th></th>\n",
              "      <th></th>\n",
              "      <th></th>\n",
              "      <th></th>\n",
              "      <th></th>\n",
              "      <th></th>\n",
              "      <th></th>\n",
              "    </tr>\n",
              "  </thead>\n",
              "  <tbody>\n",
              "    <tr>\n",
              "      <th>Afghanistan</th>\n",
              "      <td>AFG</td>\n",
              "      <td>2021-02-22</td>\n",
              "      <td>0.0</td>\n",
              "      <td>0</td>\n",
              "      <td>NaN</td>\n",
              "      <td>0</td>\n",
              "      <td>0</td>\n",
              "      <td>0.0</td>\n",
              "      <td>0.0</td>\n",
              "      <td>NaN</td>\n",
              "      <td>NaN</td>\n",
              "      <td>Johnson&amp;Johnson, Oxford/AstraZeneca, Pfizer/Bi...</td>\n",
              "      <td>World Health Organization</td>\n",
              "      <td>https://covid19.who.int/</td>\n",
              "      <td>0</td>\n",
              "      <td>Johnson&amp;Johnson, Oxford</td>\n",
              "      <td>AstraZeneca, Pfizer</td>\n",
              "      <td>BioNTech, Sinopharm</td>\n",
              "      <td>Beijing</td>\n",
              "      <td>None</td>\n",
              "    </tr>\n",
              "    <tr>\n",
              "      <th>Afghanistan</th>\n",
              "      <td>AFG</td>\n",
              "      <td>2021-02-23</td>\n",
              "      <td>NaN</td>\n",
              "      <td>0</td>\n",
              "      <td>NaN</td>\n",
              "      <td>0</td>\n",
              "      <td>1367</td>\n",
              "      <td>NaN</td>\n",
              "      <td>NaN</td>\n",
              "      <td>NaN</td>\n",
              "      <td>34.0</td>\n",
              "      <td>Johnson&amp;Johnson, Oxford/AstraZeneca, Pfizer/Bi...</td>\n",
              "      <td>World Health Organization</td>\n",
              "      <td>https://covid19.who.int/</td>\n",
              "      <td>1367</td>\n",
              "      <td>Johnson&amp;Johnson, Oxford</td>\n",
              "      <td>AstraZeneca, Pfizer</td>\n",
              "      <td>BioNTech, Sinopharm</td>\n",
              "      <td>Beijing</td>\n",
              "      <td>None</td>\n",
              "    </tr>\n",
              "    <tr>\n",
              "      <th>Afghanistan</th>\n",
              "      <td>AFG</td>\n",
              "      <td>2021-02-24</td>\n",
              "      <td>NaN</td>\n",
              "      <td>0</td>\n",
              "      <td>NaN</td>\n",
              "      <td>0</td>\n",
              "      <td>1367</td>\n",
              "      <td>NaN</td>\n",
              "      <td>NaN</td>\n",
              "      <td>NaN</td>\n",
              "      <td>34.0</td>\n",
              "      <td>Johnson&amp;Johnson, Oxford/AstraZeneca, Pfizer/Bi...</td>\n",
              "      <td>World Health Organization</td>\n",
              "      <td>https://covid19.who.int/</td>\n",
              "      <td>1367</td>\n",
              "      <td>Johnson&amp;Johnson, Oxford</td>\n",
              "      <td>AstraZeneca, Pfizer</td>\n",
              "      <td>BioNTech, Sinopharm</td>\n",
              "      <td>Beijing</td>\n",
              "      <td>None</td>\n",
              "    </tr>\n",
              "  </tbody>\n",
              "</table>\n",
              "</div>\n",
              "      <button class=\"colab-df-convert\" onclick=\"convertToInteractive('df-29112d2f-d3d2-4782-bfa0-ac3c2e9b2136')\"\n",
              "              title=\"Convert this dataframe to an interactive table.\"\n",
              "              style=\"display:none;\">\n",
              "        \n",
              "  <svg xmlns=\"http://www.w3.org/2000/svg\" height=\"24px\"viewBox=\"0 0 24 24\"\n",
              "       width=\"24px\">\n",
              "    <path d=\"M0 0h24v24H0V0z\" fill=\"none\"/>\n",
              "    <path d=\"M18.56 5.44l.94 2.06.94-2.06 2.06-.94-2.06-.94-.94-2.06-.94 2.06-2.06.94zm-11 1L8.5 8.5l.94-2.06 2.06-.94-2.06-.94L8.5 2.5l-.94 2.06-2.06.94zm10 10l.94 2.06.94-2.06 2.06-.94-2.06-.94-.94-2.06-.94 2.06-2.06.94z\"/><path d=\"M17.41 7.96l-1.37-1.37c-.4-.4-.92-.59-1.43-.59-.52 0-1.04.2-1.43.59L10.3 9.45l-7.72 7.72c-.78.78-.78 2.05 0 2.83L4 21.41c.39.39.9.59 1.41.59.51 0 1.02-.2 1.41-.59l7.78-7.78 2.81-2.81c.8-.78.8-2.07 0-2.86zM5.41 20L4 18.59l7.72-7.72 1.47 1.35L5.41 20z\"/>\n",
              "  </svg>\n",
              "      </button>\n",
              "      \n",
              "  <style>\n",
              "    .colab-df-container {\n",
              "      display:flex;\n",
              "      flex-wrap:wrap;\n",
              "      gap: 12px;\n",
              "    }\n",
              "\n",
              "    .colab-df-convert {\n",
              "      background-color: #E8F0FE;\n",
              "      border: none;\n",
              "      border-radius: 50%;\n",
              "      cursor: pointer;\n",
              "      display: none;\n",
              "      fill: #1967D2;\n",
              "      height: 32px;\n",
              "      padding: 0 0 0 0;\n",
              "      width: 32px;\n",
              "    }\n",
              "\n",
              "    .colab-df-convert:hover {\n",
              "      background-color: #E2EBFA;\n",
              "      box-shadow: 0px 1px 2px rgba(60, 64, 67, 0.3), 0px 1px 3px 1px rgba(60, 64, 67, 0.15);\n",
              "      fill: #174EA6;\n",
              "    }\n",
              "\n",
              "    [theme=dark] .colab-df-convert {\n",
              "      background-color: #3B4455;\n",
              "      fill: #D2E3FC;\n",
              "    }\n",
              "\n",
              "    [theme=dark] .colab-df-convert:hover {\n",
              "      background-color: #434B5C;\n",
              "      box-shadow: 0px 1px 3px 1px rgba(0, 0, 0, 0.15);\n",
              "      filter: drop-shadow(0px 1px 2px rgba(0, 0, 0, 0.3));\n",
              "      fill: #FFFFFF;\n",
              "    }\n",
              "  </style>\n",
              "\n",
              "      <script>\n",
              "        const buttonEl =\n",
              "          document.querySelector('#df-29112d2f-d3d2-4782-bfa0-ac3c2e9b2136 button.colab-df-convert');\n",
              "        buttonEl.style.display =\n",
              "          google.colab.kernel.accessAllowed ? 'block' : 'none';\n",
              "\n",
              "        async function convertToInteractive(key) {\n",
              "          const element = document.querySelector('#df-29112d2f-d3d2-4782-bfa0-ac3c2e9b2136');\n",
              "          const dataTable =\n",
              "            await google.colab.kernel.invokeFunction('convertToInteractive',\n",
              "                                                     [key], {});\n",
              "          if (!dataTable) return;\n",
              "\n",
              "          const docLinkHtml = 'Like what you see? Visit the ' +\n",
              "            '<a target=\"_blank\" href=https://colab.research.google.com/notebooks/data_table.ipynb>data table notebook</a>'\n",
              "            + ' to learn more about interactive tables.';\n",
              "          element.innerHTML = '';\n",
              "          dataTable['output_type'] = 'display_data';\n",
              "          await google.colab.output.renderOutput(dataTable, element);\n",
              "          const docLink = document.createElement('div');\n",
              "          docLink.innerHTML = docLinkHtml;\n",
              "          element.appendChild(docLink);\n",
              "        }\n",
              "      </script>\n",
              "    </div>\n",
              "  </div>\n",
              "  "
            ]
          },
          "metadata": {}
        },
        {
          "output_type": "display_data",
          "data": {
            "text/plain": [
              "            daily_vaccinations\n",
              "date                          \n",
              "2020-02-12                   0\n",
              "2020-03-12                   0\n",
              "2020-04-12                   0\n",
              "2020-05-12                   0\n",
              "2020-06-12                   0"
            ],
            "text/html": [
              "\n",
              "  <div id=\"df-3ed7d6b8-37f2-4b56-b616-8b1a56db71de\">\n",
              "    <div class=\"colab-df-container\">\n",
              "      <div>\n",
              "<style scoped>\n",
              "    .dataframe tbody tr th:only-of-type {\n",
              "        vertical-align: middle;\n",
              "    }\n",
              "\n",
              "    .dataframe tbody tr th {\n",
              "        vertical-align: top;\n",
              "    }\n",
              "\n",
              "    .dataframe thead th {\n",
              "        text-align: right;\n",
              "    }\n",
              "</style>\n",
              "<table border=\"1\" class=\"dataframe\">\n",
              "  <thead>\n",
              "    <tr style=\"text-align: right;\">\n",
              "      <th></th>\n",
              "      <th>daily_vaccinations</th>\n",
              "    </tr>\n",
              "    <tr>\n",
              "      <th>date</th>\n",
              "      <th></th>\n",
              "    </tr>\n",
              "  </thead>\n",
              "  <tbody>\n",
              "    <tr>\n",
              "      <th>2020-02-12</th>\n",
              "      <td>0</td>\n",
              "    </tr>\n",
              "    <tr>\n",
              "      <th>2020-03-12</th>\n",
              "      <td>0</td>\n",
              "    </tr>\n",
              "    <tr>\n",
              "      <th>2020-04-12</th>\n",
              "      <td>0</td>\n",
              "    </tr>\n",
              "    <tr>\n",
              "      <th>2020-05-12</th>\n",
              "      <td>0</td>\n",
              "    </tr>\n",
              "    <tr>\n",
              "      <th>2020-06-12</th>\n",
              "      <td>0</td>\n",
              "    </tr>\n",
              "  </tbody>\n",
              "</table>\n",
              "</div>\n",
              "      <button class=\"colab-df-convert\" onclick=\"convertToInteractive('df-3ed7d6b8-37f2-4b56-b616-8b1a56db71de')\"\n",
              "              title=\"Convert this dataframe to an interactive table.\"\n",
              "              style=\"display:none;\">\n",
              "        \n",
              "  <svg xmlns=\"http://www.w3.org/2000/svg\" height=\"24px\"viewBox=\"0 0 24 24\"\n",
              "       width=\"24px\">\n",
              "    <path d=\"M0 0h24v24H0V0z\" fill=\"none\"/>\n",
              "    <path d=\"M18.56 5.44l.94 2.06.94-2.06 2.06-.94-2.06-.94-.94-2.06-.94 2.06-2.06.94zm-11 1L8.5 8.5l.94-2.06 2.06-.94-2.06-.94L8.5 2.5l-.94 2.06-2.06.94zm10 10l.94 2.06.94-2.06 2.06-.94-2.06-.94-.94-2.06-.94 2.06-2.06.94z\"/><path d=\"M17.41 7.96l-1.37-1.37c-.4-.4-.92-.59-1.43-.59-.52 0-1.04.2-1.43.59L10.3 9.45l-7.72 7.72c-.78.78-.78 2.05 0 2.83L4 21.41c.39.39.9.59 1.41.59.51 0 1.02-.2 1.41-.59l7.78-7.78 2.81-2.81c.8-.78.8-2.07 0-2.86zM5.41 20L4 18.59l7.72-7.72 1.47 1.35L5.41 20z\"/>\n",
              "  </svg>\n",
              "      </button>\n",
              "      \n",
              "  <style>\n",
              "    .colab-df-container {\n",
              "      display:flex;\n",
              "      flex-wrap:wrap;\n",
              "      gap: 12px;\n",
              "    }\n",
              "\n",
              "    .colab-df-convert {\n",
              "      background-color: #E8F0FE;\n",
              "      border: none;\n",
              "      border-radius: 50%;\n",
              "      cursor: pointer;\n",
              "      display: none;\n",
              "      fill: #1967D2;\n",
              "      height: 32px;\n",
              "      padding: 0 0 0 0;\n",
              "      width: 32px;\n",
              "    }\n",
              "\n",
              "    .colab-df-convert:hover {\n",
              "      background-color: #E2EBFA;\n",
              "      box-shadow: 0px 1px 2px rgba(60, 64, 67, 0.3), 0px 1px 3px 1px rgba(60, 64, 67, 0.15);\n",
              "      fill: #174EA6;\n",
              "    }\n",
              "\n",
              "    [theme=dark] .colab-df-convert {\n",
              "      background-color: #3B4455;\n",
              "      fill: #D2E3FC;\n",
              "    }\n",
              "\n",
              "    [theme=dark] .colab-df-convert:hover {\n",
              "      background-color: #434B5C;\n",
              "      box-shadow: 0px 1px 3px 1px rgba(0, 0, 0, 0.15);\n",
              "      filter: drop-shadow(0px 1px 2px rgba(0, 0, 0, 0.3));\n",
              "      fill: #FFFFFF;\n",
              "    }\n",
              "  </style>\n",
              "\n",
              "      <script>\n",
              "        const buttonEl =\n",
              "          document.querySelector('#df-3ed7d6b8-37f2-4b56-b616-8b1a56db71de button.colab-df-convert');\n",
              "        buttonEl.style.display =\n",
              "          google.colab.kernel.accessAllowed ? 'block' : 'none';\n",
              "\n",
              "        async function convertToInteractive(key) {\n",
              "          const element = document.querySelector('#df-3ed7d6b8-37f2-4b56-b616-8b1a56db71de');\n",
              "          const dataTable =\n",
              "            await google.colab.kernel.invokeFunction('convertToInteractive',\n",
              "                                                     [key], {});\n",
              "          if (!dataTable) return;\n",
              "\n",
              "          const docLinkHtml = 'Like what you see? Visit the ' +\n",
              "            '<a target=\"_blank\" href=https://colab.research.google.com/notebooks/data_table.ipynb>data table notebook</a>'\n",
              "            + ' to learn more about interactive tables.';\n",
              "          element.innerHTML = '';\n",
              "          dataTable['output_type'] = 'display_data';\n",
              "          await google.colab.output.renderOutput(dataTable, element);\n",
              "          const docLink = document.createElement('div');\n",
              "          docLink.innerHTML = docLinkHtml;\n",
              "          element.appendChild(docLink);\n",
              "        }\n",
              "      </script>\n",
              "    </div>\n",
              "  </div>\n",
              "  "
            ]
          },
          "metadata": {}
        }
      ]
    },
    {
      "cell_type": "markdown",
      "source": [
        "j. Generar un dataframe denominado antes20 con todos los registros que se hayan\n",
        "realizado antes del 20 de diciembre de 2020."
      ],
      "metadata": {
        "id": "RdKxBK-uqVx0"
      }
    },
    {
      "cell_type": "code",
      "source": [
        "antes20 = country_vaccinations.loc[(country_vaccinations['date'] <= '2020-12-20')]\n",
        "print(antes20.head(5))"
      ],
      "metadata": {
        "id": "VIIgdKdhqZoc"
      },
      "execution_count": null,
      "outputs": []
    },
    {
      "cell_type": "markdown",
      "source": [
        "k. Obtener un dataframe denominado pfizer con todos los registros donde se haya utilizado la vacuna Pfizer"
      ],
      "metadata": {
        "id": "2IIgKnXFqbKq"
      }
    },
    {
      "cell_type": "code",
      "source": [
        "Pfizer= country_vaccinations.query('vaccines.str.contains(\"Pfizer\")', engine='python')"
      ],
      "metadata": {
        "id": "zDR8GLA1qgHK"
      },
      "execution_count": 12,
      "outputs": []
    },
    {
      "cell_type": "markdown",
      "source": [
        "l. Almacenar los dataframes generados (conDiferencias,conCantidad,antes20 y pfizer) en  un archivo de Excel denominado resultadosReto.xlsx, donde cada dataframe ocupe una hoja diferente. Se recomienda ver la documentación de pd.ExcelWriter"
      ],
      "metadata": {
        "id": "ty8hAJDlqguL"
      }
    },
    {
      "cell_type": "code",
      "source": [
        "documento = pd.ExcelWriter('/content/resultadoRero.xlsx')\n",
        "conDiferencias.to_excel(documento,'conDiferencias')\n",
        "conCantidad.to_excel(documento,'conCantidad')\n",
        "antes20.to_excel(documento,'antes20')\n",
        "Pfizer.to_excel(documento,'Pfizer')\n",
        "documento.save()\n",
        "print('los dataframes  han sido escritos con exito, funciono correctamente')\n"
      ],
      "metadata": {
        "id": "ywQv8TJIqsax",
        "colab": {
          "base_uri": "https://localhost:8080/"
        },
        "outputId": "857ec2ab-d983-4373-b2b9-c6b16ae71f21"
      },
      "execution_count": 16,
      "outputs": [
        {
          "output_type": "stream",
          "name": "stdout",
          "text": [
            "los dataframes  han sido escritos con exito, funciono correctamente\n"
          ]
        }
      ]
    }
  ]
}